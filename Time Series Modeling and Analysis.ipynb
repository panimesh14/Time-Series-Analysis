{
 "cells": [
  {
   "cell_type": "code",
   "execution_count": 2,
   "id": "11300391",
   "metadata": {},
   "outputs": [
    {
     "data": {
      "text/plain": [
       "[1, 3, 4, 7]"
      ]
     },
     "execution_count": 2,
     "metadata": {},
     "output_type": "execute_result"
    }
   ],
   "source": [
    "x = [1,3,4,7]\n",
    "x"
   ]
  },
  {
   "cell_type": "markdown",
   "id": "2883430b",
   "metadata": {},
   "source": [
    "Installing libraries:\n",
    "1. statsmodels\n",
    "2. arch\n",
    "3. matplotlib\n",
    "4. seaborn"
   ]
  },
  {
   "cell_type": "code",
   "execution_count": 3,
   "id": "ab738041",
   "metadata": {},
   "outputs": [
    {
     "name": "stdout",
     "output_type": "stream",
     "text": [
      "Collecting statsmodels"
     ]
    },
    {
     "name": "stderr",
     "output_type": "stream",
     "text": [
      "\n",
      "[notice] A new release of pip is available: 23.1.2 -> 24.3.1\n",
      "[notice] To update, run: python.exe -m pip install --upgrade pip\n"
     ]
    },
    {
     "name": "stdout",
     "output_type": "stream",
     "text": [
      "\n",
      "  Downloading statsmodels-0.14.4-cp311-cp311-win_amd64.whl (9.9 MB)\n",
      "                                              0.0/9.9 MB ? eta -:--:--\n",
      "                                              0.1/9.9 MB 2.0 MB/s eta 0:00:05\n",
      "     -                                        0.3/9.9 MB 3.3 MB/s eta 0:00:03\n",
      "     ---                                      0.8/9.9 MB 5.3 MB/s eta 0:00:02\n",
      "     -----                                    1.2/9.9 MB 6.1 MB/s eta 0:00:02\n",
      "     -------                                  1.8/9.9 MB 6.7 MB/s eta 0:00:02\n",
      "     ---------                                2.2/9.9 MB 7.1 MB/s eta 0:00:02\n",
      "     ----------                               2.6/9.9 MB 7.3 MB/s eta 0:00:01\n",
      "     ------------                             3.1/9.9 MB 7.5 MB/s eta 0:00:01\n",
      "     --------------                           3.5/9.9 MB 7.7 MB/s eta 0:00:01\n",
      "     ---------------                          3.9/9.9 MB 8.0 MB/s eta 0:00:01\n",
      "     -----------------                        4.4/9.9 MB 8.2 MB/s eta 0:00:01\n",
      "     ------------------                       4.5/9.9 MB 7.8 MB/s eta 0:00:01\n",
      "     ------------------                       4.6/9.9 MB 7.3 MB/s eta 0:00:01\n",
      "     ------------------                       4.6/9.9 MB 6.8 MB/s eta 0:00:01\n",
      "     ------------------                       4.6/9.9 MB 6.6 MB/s eta 0:00:01\n",
      "     -------------------                      4.7/9.9 MB 6.1 MB/s eta 0:00:01\n",
      "     -------------------                      4.7/9.9 MB 5.8 MB/s eta 0:00:01\n",
      "     -------------------                      4.8/9.9 MB 5.6 MB/s eta 0:00:01\n",
      "     -------------------                      4.8/9.9 MB 5.2 MB/s eta 0:00:01\n",
      "     -------------------                      4.9/9.9 MB 5.1 MB/s eta 0:00:01\n",
      "     -------------------                      4.9/9.9 MB 4.8 MB/s eta 0:00:02\n",
      "     --------------------                     5.0/9.9 MB 4.7 MB/s eta 0:00:02\n",
      "     --------------------                     5.1/9.9 MB 4.4 MB/s eta 0:00:02\n",
      "     --------------------                     5.1/9.9 MB 4.3 MB/s eta 0:00:02\n",
      "     --------------------                     5.1/9.9 MB 4.2 MB/s eta 0:00:02\n",
      "     ---------------------                    5.2/9.9 MB 3.9 MB/s eta 0:00:02\n",
      "     ---------------------                    5.3/9.9 MB 3.9 MB/s eta 0:00:02\n",
      "     ---------------------                    5.3/9.9 MB 3.9 MB/s eta 0:00:02\n",
      "     ---------------------                    5.3/9.9 MB 3.9 MB/s eta 0:00:02\n",
      "     ---------------------                    5.3/9.9 MB 3.9 MB/s eta 0:00:02\n",
      "     ---------------------                    5.3/9.9 MB 3.9 MB/s eta 0:00:02\n",
      "     ---------------------                    5.3/9.9 MB 3.9 MB/s eta 0:00:02\n",
      "     ---------------------                    5.3/9.9 MB 3.9 MB/s eta 0:00:02\n",
      "     ---------------------                    5.3/9.9 MB 3.9 MB/s eta 0:00:02\n",
      "     ---------------------                    5.3/9.9 MB 3.9 MB/s eta 0:00:02\n",
      "     ---------------------                    5.3/9.9 MB 3.9 MB/s eta 0:00:02\n",
      "     ---------------------                    5.3/9.9 MB 3.9 MB/s eta 0:00:02\n",
      "     ---------------------                    5.3/9.9 MB 3.9 MB/s eta 0:00:02\n",
      "     ---------------------                    5.3/9.9 MB 3.9 MB/s eta 0:00:02\n",
      "     ---------------------                    5.3/9.9 MB 3.9 MB/s eta 0:00:02\n",
      "     ---------------------                    5.3/9.9 MB 3.9 MB/s eta 0:00:02\n",
      "     ---------------------                    5.3/9.9 MB 3.9 MB/s eta 0:00:02\n",
      "     ---------------------                    5.3/9.9 MB 3.9 MB/s eta 0:00:02\n",
      "     ---------------------                    5.3/9.9 MB 3.9 MB/s eta 0:00:02\n",
      "     -------------------------                6.3/9.9 MB 2.5 MB/s eta 0:00:02\n",
      "     -------------------------                6.3/9.9 MB 2.5 MB/s eta 0:00:02\n",
      "     -------------------------                6.3/9.9 MB 2.5 MB/s eta 0:00:02\n",
      "     -------------------------                6.4/9.9 MB 2.4 MB/s eta 0:00:02\n",
      "     --------------------------               6.5/9.9 MB 2.4 MB/s eta 0:00:02\n",
      "     --------------------------               6.5/9.9 MB 2.4 MB/s eta 0:00:02\n",
      "     --------------------------               6.6/9.9 MB 2.3 MB/s eta 0:00:02\n",
      "     --------------------------               6.6/9.9 MB 2.3 MB/s eta 0:00:02\n",
      "     ---------------------------              6.7/9.9 MB 2.3 MB/s eta 0:00:02\n",
      "     ---------------------------              6.7/9.9 MB 2.3 MB/s eta 0:00:02\n",
      "     ---------------------------              6.8/9.9 MB 2.2 MB/s eta 0:00:02\n",
      "     ---------------------------              6.8/9.9 MB 2.2 MB/s eta 0:00:02\n",
      "     ---------------------------              6.9/9.9 MB 2.2 MB/s eta 0:00:02\n",
      "     ----------------------------             6.9/9.9 MB 2.2 MB/s eta 0:00:02\n",
      "     ----------------------------             7.0/9.9 MB 2.1 MB/s eta 0:00:02\n",
      "     ----------------------------             7.0/9.9 MB 2.1 MB/s eta 0:00:02\n",
      "     ----------------------------             7.1/9.9 MB 2.1 MB/s eta 0:00:02\n",
      "     ----------------------------             7.1/9.9 MB 2.1 MB/s eta 0:00:02\n",
      "     -----------------------------            7.2/9.9 MB 2.1 MB/s eta 0:00:02\n",
      "     -----------------------------            7.2/9.9 MB 2.0 MB/s eta 0:00:02\n",
      "     -----------------------------            7.3/9.9 MB 2.0 MB/s eta 0:00:02\n",
      "     -----------------------------            7.4/9.9 MB 2.0 MB/s eta 0:00:02\n",
      "     -----------------------------            7.4/9.9 MB 2.0 MB/s eta 0:00:02\n",
      "     ------------------------------           7.5/9.9 MB 2.0 MB/s eta 0:00:02\n",
      "     ------------------------------           7.5/9.9 MB 1.9 MB/s eta 0:00:02\n",
      "     ------------------------------           7.6/9.9 MB 1.9 MB/s eta 0:00:02\n",
      "     ------------------------------           7.6/9.9 MB 1.9 MB/s eta 0:00:02\n",
      "     -------------------------------          7.6/9.9 MB 1.9 MB/s eta 0:00:02\n",
      "     -------------------------------          7.7/9.9 MB 1.9 MB/s eta 0:00:02\n",
      "     -------------------------------          7.8/9.9 MB 1.9 MB/s eta 0:00:02\n",
      "     -------------------------------          7.8/9.9 MB 1.9 MB/s eta 0:00:02\n",
      "     -------------------------------          7.9/9.9 MB 1.9 MB/s eta 0:00:02\n",
      "     --------------------------------         7.9/9.9 MB 1.8 MB/s eta 0:00:02\n",
      "     --------------------------------         8.0/9.9 MB 1.8 MB/s eta 0:00:02\n",
      "     --------------------------------         8.0/9.9 MB 1.8 MB/s eta 0:00:01\n",
      "     --------------------------------         8.0/9.9 MB 1.8 MB/s eta 0:00:01\n",
      "     --------------------------------         8.0/9.9 MB 1.8 MB/s eta 0:00:01\n",
      "     --------------------------------         8.0/9.9 MB 1.8 MB/s eta 0:00:01\n",
      "     --------------------------------         8.0/9.9 MB 1.8 MB/s eta 0:00:01\n",
      "     --------------------------------         8.0/9.9 MB 1.8 MB/s eta 0:00:01\n",
      "     --------------------------------         8.0/9.9 MB 1.8 MB/s eta 0:00:01\n",
      "     --------------------------------         8.0/9.9 MB 1.8 MB/s eta 0:00:01\n",
      "     --------------------------------         8.0/9.9 MB 1.8 MB/s eta 0:00:01\n",
      "     --------------------------------         8.0/9.9 MB 1.8 MB/s eta 0:00:01\n",
      "     --------------------------------         8.0/9.9 MB 1.8 MB/s eta 0:00:01\n",
      "     --------------------------------         8.0/9.9 MB 1.8 MB/s eta 0:00:01\n",
      "     --------------------------------         8.0/9.9 MB 1.8 MB/s eta 0:00:01\n",
      "     --------------------------------         8.0/9.9 MB 1.8 MB/s eta 0:00:01\n",
      "     --------------------------------         8.0/9.9 MB 1.8 MB/s eta 0:00:01\n",
      "     --------------------------------         8.0/9.9 MB 1.8 MB/s eta 0:00:01\n",
      "     ---------------------------------        8.2/9.9 MB 1.5 MB/s eta 0:00:02\n",
      "     ------------------------------------     8.9/9.9 MB 1.6 MB/s eta 0:00:01\n",
      "     ------------------------------------     9.0/9.9 MB 1.6 MB/s eta 0:00:01\n",
      "     ------------------------------------     9.0/9.9 MB 1.6 MB/s eta 0:00:01\n",
      "     ------------------------------------     9.1/9.9 MB 1.6 MB/s eta 0:00:01\n",
      "     -------------------------------------    9.1/9.9 MB 1.6 MB/s eta 0:00:01\n",
      "     -------------------------------------    9.2/9.9 MB 1.6 MB/s eta 0:00:01\n",
      "     -------------------------------------    9.2/9.9 MB 1.6 MB/s eta 0:00:01\n",
      "     -------------------------------------    9.2/9.9 MB 1.6 MB/s eta 0:00:01\n",
      "     -------------------------------------    9.2/9.9 MB 1.6 MB/s eta 0:00:01\n",
      "     -------------------------------------    9.2/9.9 MB 1.6 MB/s eta 0:00:01\n",
      "     -------------------------------------    9.2/9.9 MB 1.6 MB/s eta 0:00:01\n",
      "     -------------------------------------    9.2/9.9 MB 1.6 MB/s eta 0:00:01\n",
      "     -------------------------------------    9.2/9.9 MB 1.6 MB/s eta 0:00:01\n",
      "     -------------------------------------    9.2/9.9 MB 1.6 MB/s eta 0:00:01\n",
      "     -------------------------------------    9.2/9.9 MB 1.6 MB/s eta 0:00:01\n",
      "     -------------------------------------    9.2/9.9 MB 1.6 MB/s eta 0:00:01\n",
      "     -------------------------------------    9.2/9.9 MB 1.6 MB/s eta 0:00:01\n",
      "     --------------------------------------   9.4/9.9 MB 1.5 MB/s eta 0:00:01\n",
      "     ---------------------------------------  9.8/9.9 MB 1.5 MB/s eta 0:00:01\n",
      "     ---------------------------------------  9.9/9.9 MB 1.5 MB/s eta 0:00:01\n",
      "     ---------------------------------------  9.9/9.9 MB 1.5 MB/s eta 0:00:01\n",
      "     ---------------------------------------  9.9/9.9 MB 1.5 MB/s eta 0:00:01\n",
      "     ---------------------------------------- 9.9/9.9 MB 1.5 MB/s eta 0:00:00\n",
      "Requirement already satisfied: numpy<3,>=1.22.3 in c:\\users\\prof. kamla pant\\appdata\\local\\programs\\python\\python311\\lib\\site-packages (from statsmodels) (1.23.5)\n",
      "Requirement already satisfied: scipy!=1.9.2,>=1.8 in c:\\users\\prof. kamla pant\\appdata\\local\\programs\\python\\python311\\lib\\site-packages (from statsmodels) (1.10.1)\n",
      "Requirement already satisfied: pandas!=2.1.0,>=1.4 in c:\\users\\prof. kamla pant\\appdata\\local\\programs\\python\\python311\\lib\\site-packages (from statsmodels) (2.0.1)\n",
      "Collecting patsy>=0.5.6 (from statsmodels)\n",
      "  Downloading patsy-1.0.1-py2.py3-none-any.whl (232 kB)\n",
      "                                              0.0/232.9 kB ? eta -:--:--\n",
      "     -----------------------                143.4/232.9 kB 2.8 MB/s eta 0:00:01\n",
      "     -------------------------------------- 232.9/232.9 kB 2.9 MB/s eta 0:00:00\n",
      "Requirement already satisfied: packaging>=21.3 in c:\\users\\prof. kamla pant\\appdata\\local\\programs\\python\\python311\\lib\\site-packages (from statsmodels) (23.1)\n",
      "Requirement already satisfied: python-dateutil>=2.8.2 in c:\\users\\prof. kamla pant\\appdata\\local\\programs\\python\\python311\\lib\\site-packages (from pandas!=2.1.0,>=1.4->statsmodels) (2.8.2)\n",
      "Requirement already satisfied: pytz>=2020.1 in c:\\users\\prof. kamla pant\\appdata\\local\\programs\\python\\python311\\lib\\site-packages (from pandas!=2.1.0,>=1.4->statsmodels) (2023.3)\n",
      "Requirement already satisfied: tzdata>=2022.1 in c:\\users\\prof. kamla pant\\appdata\\local\\programs\\python\\python311\\lib\\site-packages (from pandas!=2.1.0,>=1.4->statsmodels) (2023.3)\n",
      "Requirement already satisfied: six>=1.5 in c:\\users\\prof. kamla pant\\appdata\\local\\programs\\python\\python311\\lib\\site-packages (from python-dateutil>=2.8.2->pandas!=2.1.0,>=1.4->statsmodels) (1.16.0)\n",
      "Installing collected packages: patsy, statsmodels\n",
      "Successfully installed patsy-1.0.1 statsmodels-0.14.4\n"
     ]
    }
   ],
   "source": [
    "!pip install statsmodels"
   ]
  },
  {
   "cell_type": "code",
   "execution_count": 4,
   "id": "58eacab7",
   "metadata": {},
   "outputs": [
    {
     "name": "stdout",
     "output_type": "stream",
     "text": [
      "Collecting arch\n",
      "  Downloading arch-7.2.0-cp311-cp311-win_amd64.whl (927 kB)\n",
      "                                              0.0/927.1 kB ? eta -:--:--\n",
      "     -------                                174.1/927.1 kB 5.3 MB/s eta 0:00:01\n",
      "     ---------------                        368.6/927.1 kB 4.6 MB/s eta 0:00:01\n",
      "     --------------------------             634.9/927.1 kB 4.5 MB/s eta 0:00:01\n",
      "     -------------------------------------  921.6/927.1 kB 4.5 MB/s eta 0:00:01\n",
      "     -------------------------------------- 927.1/927.1 kB 3.7 MB/s eta 0:00:00\n",
      "Requirement already satisfied: numpy>=1.22.3 in c:\\users\\prof. kamla pant\\appdata\\local\\programs\\python\\python311\\lib\\site-packages (from arch) (1.23.5)\n",
      "Requirement already satisfied: scipy>=1.8 in c:\\users\\prof. kamla pant\\appdata\\local\\programs\\python\\python311\\lib\\site-packages (from arch) (1.10.1)\n",
      "Requirement already satisfied: pandas>=1.4 in c:\\users\\prof. kamla pant\\appdata\\local\\programs\\python\\python311\\lib\\site-packages (from arch) (2.0.1)\n",
      "Requirement already satisfied: statsmodels>=0.12 in c:\\users\\prof. kamla pant\\appdata\\local\\programs\\python\\python311\\lib\\site-packages (from arch) (0.14.4)\n",
      "Requirement already satisfied: python-dateutil>=2.8.2 in c:\\users\\prof. kamla pant\\appdata\\local\\programs\\python\\python311\\lib\\site-packages (from pandas>=1.4->arch) (2.8.2)\n",
      "Requirement already satisfied: pytz>=2020.1 in c:\\users\\prof. kamla pant\\appdata\\local\\programs\\python\\python311\\lib\\site-packages (from pandas>=1.4->arch) (2023.3)\n",
      "Requirement already satisfied: tzdata>=2022.1 in c:\\users\\prof. kamla pant\\appdata\\local\\programs\\python\\python311\\lib\\site-packages (from pandas>=1.4->arch) (2023.3)\n",
      "Requirement already satisfied: patsy>=0.5.6 in c:\\users\\prof. kamla pant\\appdata\\local\\programs\\python\\python311\\lib\\site-packages (from statsmodels>=0.12->arch) (1.0.1)\n",
      "Requirement already satisfied: packaging>=21.3 in c:\\users\\prof. kamla pant\\appdata\\local\\programs\\python\\python311\\lib\\site-packages (from statsmodels>=0.12->arch) (23.1)\n",
      "Requirement already satisfied: six>=1.5 in c:\\users\\prof. kamla pant\\appdata\\local\\programs\\python\\python311\\lib\\site-packages (from python-dateutil>=2.8.2->pandas>=1.4->arch) (1.16.0)\n",
      "Installing collected packages: arch\n",
      "Successfully installed arch-7.2.0\n"
     ]
    },
    {
     "name": "stderr",
     "output_type": "stream",
     "text": [
      "\n",
      "[notice] A new release of pip is available: 23.1.2 -> 24.3.1\n",
      "[notice] To update, run: python.exe -m pip install --upgrade pip\n"
     ]
    }
   ],
   "source": [
    "!pip install arch"
   ]
  },
  {
   "cell_type": "code",
   "execution_count": 5,
   "id": "86266565",
   "metadata": {},
   "outputs": [
    {
     "name": "stdout",
     "output_type": "stream",
     "text": [
      "Requirement already satisfied: matplotlib in c:\\users\\prof. kamla pant\\appdata\\local\\programs\\python\\python311\\lib\\site-packages (3.7.1)\n",
      "Requirement already satisfied: contourpy>=1.0.1 in c:\\users\\prof. kamla pant\\appdata\\local\\programs\\python\\python311\\lib\\site-packages (from matplotlib) (1.0.7)\n",
      "Requirement already satisfied: cycler>=0.10 in c:\\users\\prof. kamla pant\\appdata\\local\\programs\\python\\python311\\lib\\site-packages (from matplotlib) (0.11.0)\n",
      "Requirement already satisfied: fonttools>=4.22.0 in c:\\users\\prof. kamla pant\\appdata\\local\\programs\\python\\python311\\lib\\site-packages (from matplotlib) (4.39.4)\n",
      "Requirement already satisfied: kiwisolver>=1.0.1 in c:\\users\\prof. kamla pant\\appdata\\local\\programs\\python\\python311\\lib\\site-packages (from matplotlib) (1.4.4)\n",
      "Requirement already satisfied: numpy>=1.20 in c:\\users\\prof. kamla pant\\appdata\\local\\programs\\python\\python311\\lib\\site-packages (from matplotlib) (1.23.5)\n",
      "Requirement already satisfied: packaging>=20.0 in c:\\users\\prof. kamla pant\\appdata\\local\\programs\\python\\python311\\lib\\site-packages (from matplotlib) (23.1)\n",
      "Requirement already satisfied: pillow>=6.2.0 in c:\\users\\prof. kamla pant\\appdata\\local\\programs\\python\\python311\\lib\\site-packages (from matplotlib) (9.5.0)\n",
      "Requirement already satisfied: pyparsing>=2.3.1 in c:\\users\\prof. kamla pant\\appdata\\local\\programs\\python\\python311\\lib\\site-packages (from matplotlib) (3.0.9)\n",
      "Requirement already satisfied: python-dateutil>=2.7 in c:\\users\\prof. kamla pant\\appdata\\local\\programs\\python\\python311\\lib\\site-packages (from matplotlib) (2.8.2)\n",
      "Requirement already satisfied: six>=1.5 in c:\\users\\prof. kamla pant\\appdata\\local\\programs\\python\\python311\\lib\\site-packages (from python-dateutil>=2.7->matplotlib) (1.16.0)\n"
     ]
    },
    {
     "name": "stderr",
     "output_type": "stream",
     "text": [
      "\n",
      "[notice] A new release of pip is available: 23.1.2 -> 24.3.1\n",
      "[notice] To update, run: python.exe -m pip install --upgrade pip\n"
     ]
    }
   ],
   "source": [
    "!pip install matplotlib"
   ]
  },
  {
   "cell_type": "code",
   "execution_count": 6,
   "id": "1dc81299",
   "metadata": {},
   "outputs": [
    {
     "name": "stdout",
     "output_type": "stream",
     "text": [
      "Requirement already satisfied: seaborn in c:\\users\\prof. kamla pant\\appdata\\local\\programs\\python\\python311\\lib\\site-packages (0.12.2)\n",
      "Requirement already satisfied: numpy!=1.24.0,>=1.17 in c:\\users\\prof. kamla pant\\appdata\\local\\programs\\python\\python311\\lib\\site-packages (from seaborn) (1.23.5)\n",
      "Requirement already satisfied: pandas>=0.25 in c:\\users\\prof. kamla pant\\appdata\\local\\programs\\python\\python311\\lib\\site-packages (from seaborn) (2.0.1)\n",
      "Requirement already satisfied: matplotlib!=3.6.1,>=3.1 in c:\\users\\prof. kamla pant\\appdata\\local\\programs\\python\\python311\\lib\\site-packages (from seaborn) (3.7.1)\n",
      "Requirement already satisfied: contourpy>=1.0.1 in c:\\users\\prof. kamla pant\\appdata\\local\\programs\\python\\python311\\lib\\site-packages (from matplotlib!=3.6.1,>=3.1->seaborn) (1.0.7)\n",
      "Requirement already satisfied: cycler>=0.10 in c:\\users\\prof. kamla pant\\appdata\\local\\programs\\python\\python311\\lib\\site-packages (from matplotlib!=3.6.1,>=3.1->seaborn) (0.11.0)\n",
      "Requirement already satisfied: fonttools>=4.22.0 in c:\\users\\prof. kamla pant\\appdata\\local\\programs\\python\\python311\\lib\\site-packages (from matplotlib!=3.6.1,>=3.1->seaborn) (4.39.4)\n",
      "Requirement already satisfied: kiwisolver>=1.0.1 in c:\\users\\prof. kamla pant\\appdata\\local\\programs\\python\\python311\\lib\\site-packages (from matplotlib!=3.6.1,>=3.1->seaborn) (1.4.4)\n",
      "Requirement already satisfied: packaging>=20.0 in c:\\users\\prof. kamla pant\\appdata\\local\\programs\\python\\python311\\lib\\site-packages (from matplotlib!=3.6.1,>=3.1->seaborn) (23.1)\n",
      "Requirement already satisfied: pillow>=6.2.0 in c:\\users\\prof. kamla pant\\appdata\\local\\programs\\python\\python311\\lib\\site-packages (from matplotlib!=3.6.1,>=3.1->seaborn) (9.5.0)\n",
      "Requirement already satisfied: pyparsing>=2.3.1 in c:\\users\\prof. kamla pant\\appdata\\local\\programs\\python\\python311\\lib\\site-packages (from matplotlib!=3.6.1,>=3.1->seaborn) (3.0.9)\n",
      "Requirement already satisfied: python-dateutil>=2.7 in c:\\users\\prof. kamla pant\\appdata\\local\\programs\\python\\python311\\lib\\site-packages (from matplotlib!=3.6.1,>=3.1->seaborn) (2.8.2)\n",
      "Requirement already satisfied: pytz>=2020.1 in c:\\users\\prof. kamla pant\\appdata\\local\\programs\\python\\python311\\lib\\site-packages (from pandas>=0.25->seaborn) (2023.3)\n",
      "Requirement already satisfied: tzdata>=2022.1 in c:\\users\\prof. kamla pant\\appdata\\local\\programs\\python\\python311\\lib\\site-packages (from pandas>=0.25->seaborn) (2023.3)\n",
      "Requirement already satisfied: six>=1.5 in c:\\users\\prof. kamla pant\\appdata\\local\\programs\\python\\python311\\lib\\site-packages (from python-dateutil>=2.7->matplotlib!=3.6.1,>=3.1->seaborn) (1.16.0)\n"
     ]
    },
    {
     "name": "stderr",
     "output_type": "stream",
     "text": [
      "\n",
      "[notice] A new release of pip is available: 23.1.2 -> 24.3.1\n",
      "[notice] To update, run: python.exe -m pip install --upgrade pip\n"
     ]
    }
   ],
   "source": [
    "!pip install seaborn"
   ]
  },
  {
   "cell_type": "code",
   "execution_count": null,
   "id": "a05c0380",
   "metadata": {},
   "outputs": [],
   "source": []
  }
 ],
 "metadata": {
  "kernelspec": {
   "display_name": "Python 3 (ipykernel)",
   "language": "python",
   "name": "python3"
  },
  "language_info": {
   "codemirror_mode": {
    "name": "ipython",
    "version": 3
   },
   "file_extension": ".py",
   "mimetype": "text/x-python",
   "name": "python",
   "nbconvert_exporter": "python",
   "pygments_lexer": "ipython3",
   "version": "3.11.3"
  }
 },
 "nbformat": 4,
 "nbformat_minor": 5
}
